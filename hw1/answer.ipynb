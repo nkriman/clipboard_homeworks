{
 "cells": [
  {
   "cell_type": "code",
   "execution_count": 1,
   "metadata": {},
   "outputs": [],
   "source": [
    "# Let's define all fixed parameters first\n",
    "\n",
    "DRIVER_CAC_LOW = 400\n",
    "DRIVER_CAC_HIGH = 600\n",
    "RIDER_CAC_LOW = 10\n",
    "RIDER_CAC_HIGH = 20\n",
    "MONTHLY_RIDES_DRIVER = 100\n",
    "MONTHLY_RIDES_RIDER = 1\n",
    "DRIVER_CHURN_RATE = 0.05\n",
    "RIDER_CHURN_RATE_HIGH = 0.33\n",
    "RIDER_CHURN_RATE_LOW = 0.1\n",
    "PRICE_PER_RIDE_RIDER = 25"
   ]
  },
  {
   "cell_type": "code",
   "execution_count": 2,
   "metadata": {},
   "outputs": [
    {
     "data": {
      "text/plain": [
       "9.192798246747259"
      ]
     },
     "execution_count": 2,
     "metadata": {},
     "output_type": "execute_result"
    }
   ],
   "source": [
    "# Lets define a function to calculate the yearly sum of the monthly retained customers given the monthly churn rate parameter\n",
    "\n",
    "'''\n",
    "\n",
    "\tDrivers\n",
    "Month\t\n",
    "1\t100%\n",
    "2\t95%\n",
    "3\t90%\n",
    "4\t86%\n",
    "5\t81%\n",
    "6\t77%\n",
    "7\t74%\n",
    "8\t70%\n",
    "9\t66%\n",
    "10\t63%\n",
    "11\t60%\n",
    "12\t57%\n",
    "TOTAL\t9.192798247\n",
    "'''\n",
    "\n",
    "def retained_customers_per_year(monthly_churn_rate):\n",
    "    # Initialize an empty list\n",
    "    retained_customers = []\n",
    "    # Initialize the first month to 100%\n",
    "    retained_customers.append(1)\n",
    "    # Loop through the remaining 11 months\n",
    "    for i in range(11):\n",
    "        # Calculate the number of retained customers\n",
    "        retained_customers.append(retained_customers[i] * (1 - monthly_churn_rate))\n",
    "    # Return the yearly sum of retained customers\n",
    "    return sum(retained_customers)\n",
    "\n",
    "# Let's try out the function with a monthly churn rate for the drivers of 5%\n",
    "\n",
    "retained_customers_per_year(DRIVER_CHURN_RATE)\n"
   ]
  },
  {
   "cell_type": "code",
   "execution_count": 3,
   "metadata": {},
   "outputs": [
    {
     "data": {
      "text/plain": [
       "0.192"
      ]
     },
     "execution_count": 3,
     "metadata": {},
     "output_type": "execute_result"
    }
   ],
   "source": [
    "# Now for a given occupancy rate, lets define the weighted average churn rate for the riders\n",
    "\n",
    "def weighted_average_churn_rate(occupancy_rate):\n",
    "    return occupancy_rate * RIDER_CHURN_RATE_LOW + (1 - occupancy_rate) * RIDER_CHURN_RATE_HIGH\n",
    "\n",
    "# Let's try out the function with an occupancy rate of 60%\n",
    "\n",
    "weighted_average_churn_rate(0.6)"
   ]
  },
  {
   "cell_type": "code",
   "execution_count": 13,
   "metadata": {},
   "outputs": [
    {
     "data": {
      "text/plain": [
       "0.8200000000000001"
      ]
     },
     "execution_count": 13,
     "metadata": {},
     "output_type": "execute_result"
    }
   ],
   "source": [
    "# The net annual revenue will be:\n",
    "## Net income per ride * occupancy rate * number of rides per month * number of retained customers per year\n",
    "# The occupancy rate is dependant on the net income per ride. \n",
    "# We know that for a price of $6 per ride, the occupancy rate is 60%, and that for $3 per ride, the occupancy rate is 93%. \n",
    "# We can use this information to calculate the occupancy rate for any price per ride.\n",
    "\n",
    "def occupancy_rate(price_per_ride):\n",
    "    # If the occupancy is less than 0%, return 0%. If the occupancy is more than 100%, return 100%\n",
    "    if 0.6 + (price_per_ride - 6) * (0.93 - 0.6) / (3 - 6) <= 0:\n",
    "        return 0\n",
    "    elif 0.6 + (price_per_ride - 6) * (0.93 - 0.6) / (3 - 6) >= 1:\n",
    "        return 1\n",
    "    else:\n",
    "        return 0.6 + (price_per_ride - 6) * (0.93 - 0.6) / (3 - 6)\n",
    "\n",
    "# Let's try out the function with a price per ride of $4\n",
    "occupancy_rate(4)"
   ]
  },
  {
   "cell_type": "code",
   "execution_count": null,
   "metadata": {},
   "outputs": [],
   "source": []
  }
 ],
 "metadata": {
  "kernelspec": {
   "display_name": "Python 3",
   "language": "python",
   "name": "python3"
  },
  "language_info": {
   "codemirror_mode": {
    "name": "ipython",
    "version": 3
   },
   "file_extension": ".py",
   "mimetype": "text/x-python",
   "name": "python",
   "nbconvert_exporter": "python",
   "pygments_lexer": "ipython3",
   "version": "3.10.13"
  }
 },
 "nbformat": 4,
 "nbformat_minor": 2
}
