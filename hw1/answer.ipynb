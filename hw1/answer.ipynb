{
 "cells": [
  {
   "cell_type": "code",
   "execution_count": null,
   "metadata": {},
   "outputs": [],
   "source": [
    "# Lets define a function to calculate the yearly churn rate given the monthly churn rate parameter\n",
    "\n",
    "def yearly_churn(monthly_churn):\n",
    "    return (1 - (1 - monthly_churn)**12)\n"
   ]
  }
 ],
 "metadata": {
  "language_info": {
   "name": "python"
  }
 },
 "nbformat": 4,
 "nbformat_minor": 2
}
