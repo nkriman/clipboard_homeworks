{
 "cells": [
  {
   "cell_type": "markdown",
   "metadata": {},
   "source": [
    "# Net Revenue Maximization\n",
    "\n",
    "We have a fun challenge to optimize the yearly net revenue for Lyft, as per the problem statement:\n",
    "\n",
    "*The core question is: how much more or less do you pay drivers per trip (by changing Lyft’s take)? Your goal is to maximize net revenue for the next 12 months on this route.*\n",
    "\n",
    "# Initial Assumptions:\n",
    "\n",
    "This is a list of parameters that are included in the problem statement. Let's go over them:\n",
    "\n",
    "## Rider and Driver Metrics:\n",
    "\n",
    "- CAC (Customer Acquisition Cost): $500 for drivers, $15 for riders.\n",
    "- Rides per Month: Drivers provide 100 rides, while riders take 1 ride each.\n",
    "- Monthly Churn Rate: 5% for drivers, 10% for riders without fails, 33% for riders with fails.\n",
    "- Charge per Ride: $19 for drivers and $25 for riders.\n",
    "\n",
    "## Revenue Calculation:\n",
    "\n",
    "- Price Difference per Ride: $6.\n",
    "- Occupancy Rate (for the initial price difference per ride): 60% for drivers.\n",
    "\n",
    "## Price Elasticity and Occupancy:\n",
    "\n",
    "- Thanks to an experiment, we observed that if we dropped the price difference per ride to $3, the occupancy rose to 93% !\n",
    "- We can assume an hypothetical linear relationship between price changes and occupancy rates suggests that a decrease in the charge per ride could increase occupancy by 11% for each dollar reduced.\n",
    "- Changes in occupancy will consequently affect the weighted average churn rate for passengers.\n",
    "\n",
    "# Base Scenario Analysis:\n",
    "\n",
    "## First Month:\n",
    "\n",
    "- Starting with 100 riders, 60% of those find a driver, and 40% do not.\n",
    "- The acquisition costs are $1,500 for riders and $500 for the driver.\n",
    "- The net revenue from the 60 successful rides is $360.\n",
    "\n",
    "## Subsequent Months:\n",
    "\n",
    "- The model assumes no further acquisition of riders or drivers, but this may not be realistic due to high churn rates.\n",
    "- 40% of riders face difficulties finding a driver, impacting the overall churn rate.\n",
    "- The churn rate affects the number of riders available each month, reducing to 81 in the second month.\n",
    "- The second month's revenue is projected at $291.\n",
    "## Year-End Summary:\n",
    "\n",
    "- The total net revenue for the year is estimated at $1,730.\n",
    "- After accounting for the yearly CAC of riders and drivers, the net income is -$270.\n"
   ]
  },
  {
   "cell_type": "code",
   "execution_count": 1,
   "metadata": {},
   "outputs": [],
   "source": [
    "# Let's define all fixed parameters first\n",
    "\n",
    "DRIVER_CAC_LOW = 400\n",
    "DRIVER_CAC_HIGH = 600\n",
    "RIDER_CAC_LOW = 10\n",
    "RIDER_CAC_HIGH = 20\n",
    "MONTHLY_RIDES_DRIVER = 100\n",
    "MONTHLY_RIDES_RIDER = 1\n",
    "DRIVER_CHURN_RATE = 0.05\n",
    "RIDER_CHURN_RATE_HIGH = 0.33\n",
    "RIDER_CHURN_RATE_LOW = 0.1\n",
    "PRICE_PER_RIDE_RIDER = 25"
   ]
  },
  {
   "cell_type": "code",
   "execution_count": 15,
   "metadata": {},
   "outputs": [
    {
     "data": {
      "text/plain": [
       "9.192798246747259"
      ]
     },
     "execution_count": 15,
     "metadata": {},
     "output_type": "execute_result"
    }
   ],
   "source": [
    "# Lets define a function to calculate the yearly sum of the monthly retained customers given the monthly churn rate parameter\n",
    "\n",
    "'''\n",
    "\n",
    "\tDrivers\n",
    "Month\t\n",
    "1\t100%\n",
    "2\t95%\n",
    "3\t90%\n",
    "4\t86%\n",
    "5\t81%\n",
    "6\t77%\n",
    "7\t74%\n",
    "8\t70%\n",
    "9\t66%\n",
    "10\t63%\n",
    "11\t60%\n",
    "12\t57%\n",
    "TOTAL\t9.192798247\n",
    "'''\n",
    "\n",
    "def retained_customers_per_year(monthly_churn_rate):\n",
    "    # Initialize an empty list\n",
    "    retained_customers = []\n",
    "    # Initialize the first month to 100%\n",
    "    retained_customers.append(1)\n",
    "    # Loop through the remaining 11 months\n",
    "    for i in range(11):\n",
    "        # Calculate the number of retained customers\n",
    "        retained_customers.append(retained_customers[i] * (1 - monthly_churn_rate))\n",
    "    # Return the yearly sum of retained customers\n",
    "    return sum(retained_customers)\n",
    "\n",
    "# Let's try out the function with a monthly churn rate for the drivers of 5%\n",
    "\n",
    "retained_customers_per_year(DRIVER_CHURN_RATE)\n"
   ]
  },
  {
   "cell_type": "code",
   "execution_count": 3,
   "metadata": {},
   "outputs": [
    {
     "data": {
      "text/plain": [
       "0.192"
      ]
     },
     "execution_count": 3,
     "metadata": {},
     "output_type": "execute_result"
    }
   ],
   "source": [
    "# Now for a given occupancy rate, lets define the weighted average churn rate for the riders\n",
    "\n",
    "def weighted_average_churn_rate(occupancy_rate):\n",
    "    return occupancy_rate * RIDER_CHURN_RATE_LOW + (1 - occupancy_rate) * RIDER_CHURN_RATE_HIGH\n",
    "\n",
    "# Let's try out the function with an occupancy rate of 60%\n",
    "\n",
    "weighted_average_churn_rate(0.6)"
   ]
  },
  {
   "cell_type": "code",
   "execution_count": 28,
   "metadata": {},
   "outputs": [
    {
     "data": {
      "text/plain": [
       "0.8200000000000001"
      ]
     },
     "execution_count": 28,
     "metadata": {},
     "output_type": "execute_result"
    }
   ],
   "source": [
    "\n",
    "# The occupancy rate is dependant on the net income per ride. \n",
    "# We know that for a price of $6 per ride, the occupancy rate is 60%, and that for $3 per ride, the occupancy rate is 93%. \n",
    "# We can use this information to calculate the occupancy rate for any price per ride.\n",
    "\n",
    "# Let's first calculate the linear equation that describes the relationship between the price per ride and the occupancy rate\n",
    "\n",
    "# y = mx + b\n",
    "# y = occupancy_rate\n",
    "# x = price_per_ride\n",
    "# m = slope\n",
    "# b = y-intercept\n",
    "\n",
    "# m = (y2 - y1) / (x2 - x1)\n",
    "# b = y - mx\n",
    "\n",
    "def linear_equation(price_per_ride):\n",
    "    # Calculate the slope\n",
    "    m = (0.93 - 0.6) / (3 - 6)\n",
    "    # Calculate the y-intercept\n",
    "    b = 0.6 - m * 6\n",
    "    # Calculate the occupancy rate\n",
    "    return m * price_per_ride + b\n",
    "\n",
    "# Now let's consider that the minimum occupancy rate is 0% and the maximum occupancy rate is 100%.\n",
    "\n",
    "def occupancy_rate(price_per_ride):\n",
    "    # If the occupancy is less than 0%, return 0%. If the occupancy is more than 100%, return 100%\n",
    "    if linear_equation(price_per_ride) <= 0:\n",
    "        return 0\n",
    "    elif linear_equation(price_per_ride) >= 1:\n",
    "        return 1\n",
    "    else:\n",
    "        return linear_equation(price_per_ride)\n",
    "\n",
    "# Let's try out the function with a price per ride of $4\n",
    "occupancy_rate(4)"
   ]
  },
  {
   "cell_type": "code",
   "execution_count": 30,
   "metadata": {},
   "outputs": [
    {
     "data": {
      "text/plain": [
       "1947.3416708041686"
      ]
     },
     "execution_count": 30,
     "metadata": {},
     "output_type": "execute_result"
    }
   ],
   "source": [
    "# Now we can calculate the yearly net revenue as:\n",
    "# yearly_net_revenue = price_per_ride * monthly_rides * retained_customers_per_year(weighted_average_churn_rate(occupancy_rate)) * occupancy_rate(price_per_ride)\n",
    "\n",
    "# Let's define a function to calculate the yearly net revenue for a given price per ride\n",
    "\n",
    "def yearly_net_revenue(price_per_ride, monthly_rides):\n",
    "    return price_per_ride * MONTHLY_RIDES_RIDER * retained_customers_per_year(weighted_average_churn_rate(occupancy_rate(price_per_ride))) * occupancy_rate(price_per_ride) * monthly_rides\n",
    "\n",
    "# Let's try out the function with a price per ride of $4 for 100 rides per month (or the equivalent of 1 driver per month)\n",
    "yearly_net_revenue(4, MONTHLY_RIDES_DRIVER)"
   ]
  },
  {
   "cell_type": "code",
   "execution_count": 31,
   "metadata": {},
   "outputs": [
    {
     "data": {
      "image/png": "[encoded data removed]",
      "text/plain": [
       "<Figure size 640x480 with 1 Axes>"
      ]
     },
     "metadata": {},
     "output_type": "display_data"
    }
   ],
   "source": [
    "# Now we can plot the yearly net revenue as a function of the price per ride\n",
    "import matplotlib.pyplot as plt\n",
    "import numpy as np\n",
    "\n",
    "# Create a list of prices per ride\n",
    "price_per_ride = np.arange(1, 8, 0.01)\n",
    "\n",
    "# Calculate the yearly net revenue for each price per ride\n",
    "yearly_net_revenue_list = []\n",
    "for i in price_per_ride:\n",
    "    yearly_net_revenue_list.append(yearly_net_revenue(i, MONTHLY_RIDES_DRIVER))\n",
    "\n",
    "# Plot the yearly net revenue as a function of the price per ride\n",
    "plt.plot(price_per_ride, yearly_net_revenue_list)\n",
    "plt.xlabel('Price per ride')\n",
    "plt.ylabel('Yearly net revenue')\n",
    "plt.show()\n"
   ]
  },
  {
   "cell_type": "code",
   "execution_count": 32,
   "metadata": {},
   "outputs": [
    {
     "data": {
      "text/plain": [
       "4.06112649712701"
      ]
     },
     "execution_count": 32,
     "metadata": {},
     "output_type": "execute_result"
    }
   ],
   "source": [
    "# Now we can optimize the price per ride to maximize the yearly net revenue\n",
    "# We can use the scipy.optimize.minimize function to find the price per ride that maximizes the yearly net revenue\n",
    "\n",
    "from scipy.optimize import minimize\n",
    "\n",
    "# Define a function that returns the negative of the yearly net revenue\n",
    "def negative_yearly_net_revenue(price_per_ride, monthly_rides=MONTHLY_RIDES_DRIVER):\n",
    "    return -yearly_net_revenue(price_per_ride, monthly_rides)\n",
    "\n",
    "# Find the price per ride that maximizes the yearly net revenue\n",
    "result = minimize(negative_yearly_net_revenue, x0=6, method='SLSQP', bounds=[(1, 8)])\n",
    "price_per_ride_optimized = result.x[0]\n",
    "price_per_ride_optimized\n"
   ]
  }
 ],
 "metadata": {
  "kernelspec": {
   "display_name": "Python 3",
   "language": "python",
   "name": "python3"
  },
  "language_info": {
   "codemirror_mode": {
    "name": "ipython",
    "version": 3
   },
   "file_extension": ".py",
   "mimetype": "text/x-python",
   "name": "python",
   "nbconvert_exporter": "python",
   "pygments_lexer": "ipython3",
   "version": "3.10.13"
  }
 },
 "nbformat": 4,
 "nbformat_minor": 2
}
